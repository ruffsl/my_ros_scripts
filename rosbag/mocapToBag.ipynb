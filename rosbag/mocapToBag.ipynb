{
 "cells": [
  {
   "cell_type": "markdown",
   "metadata": {},
   "source": [
    "# Mocap pose data to bagfile\n",
    "\n",
    "This notebook converts csv formatted pose data exported from a motive mocap TAK file data into a tf message in a ROS bagfile. \n",
    "Assuming the csv file looks like so:\n",
    "```\n",
    "Format Version,1.1,Take Name,Jeeves_test,Capture Frame Rate,120.000000,Export Frame Rate,120.000000,Capture Start Time,2016-02-04 07.20.44.718 PM,Total Frames,2173,Rotation Type,Quaternion\n",
    "\n",
    ",,Rigid Body,Rigid Body,Rigid Body,Rigid Body,Rigid Body,Rigid Body,Rigid Body,Rigid Body\n",
    ",,Rigid Body 1,Rigid Body 1,Rigid Body 1,Rigid Body 1,Rigid Body 1,Rigid Body 1,Rigid Body 1,Rigid Body 1\n",
    ",,\"C7CFB647CA0F11E56E6FD9C3D17CA8A3\",\"C7CFB647CA0F11E56E6FD9C3D17CA8A3\",\"C7CFB647CA0F11E56E6FD9C3D17CA8A3\",\"C7CFB647CA0F11E56E6FD9C3D17CA8A3\",\"C7CFB647CA0F11E56E6FD9C3D17CA8A3\",\"C7CFB647CA0F11E56E6FD9C3D17CA8A3\",\"C7CFB647CA0F11E56E6FD9C3D17CA8A3\",\"C7CFB647CA0F11E56E6FD9C3D17CA8A3\"\n",
    ",,Rotation,Rotation,Rotation,Rotation,Position,Position,Position,Error Per Marker\n",
    "Frame,Time,X,Y,Z,W,X,Y,Z,\n",
    "0,0.000000,0.001154,0.007851,-0.002402,0.999966,-1.395789,0.790427,0.443426,0.000296\n",
    "1,0.008333,0.001172,0.007781,-0.002358,0.999966,-1.395765,0.790421,0.443417,0.000296\n",
    "2,0.016667,0.001205,0.007746,-0.002356,0.999967,-1.395745,0.790440,0.443396,0.000299\n",
    "```"
   ]
  },
  {
   "cell_type": "code",
   "execution_count": 1,
   "metadata": {
    "collapsed": true
   },
   "outputs": [],
   "source": [
    "import geometry_msgs\n",
    "import pandas as pd\n",
    "import rosbag\n",
    "import rospy\n",
    "import tf"
   ]
  },
  {
   "cell_type": "markdown",
   "metadata": {},
   "source": [
    "## Configure parameters"
   ]
  },
  {
   "cell_type": "code",
   "execution_count": 2,
   "metadata": {
    "collapsed": true
   },
   "outputs": [],
   "source": [
    "offset = 0 # in seconds \n",
    "csv_pose_file = \"../Data/Jeeves_test/Jeeves_test.csv\"\n",
    "header_length = 7\n",
    "output_bag = \"/tmp/output_bag.bag\"\n",
    "frame_id = \"world\"\n",
    "child_frame_id = \"mocap\""
   ]
  },
  {
   "cell_type": "markdown",
   "metadata": {},
   "source": [
    "## Read file info"
   ]
  },
  {
   "cell_type": "code",
   "execution_count": 3,
   "metadata": {
    "collapsed": false
   },
   "outputs": [
    {
     "name": "stdout",
     "output_type": "stream",
     "text": [
      "('Capture Start Datetime: ', Timestamp('2016-02-04 19:20:44.718000', tz=None))\n"
     ]
    }
   ],
   "source": [
    "# Read first line for file info from header\n",
    "with open(csv_pose_file, 'r') as f:\n",
    "    pose_file_info = f.readline().split('\\r')[0].split(',')\n",
    "\n",
    "# Convert line to dict\n",
    "keys = pose_file_info[::2]\n",
    "values = pose_file_info[1::2]\n",
    "pose_info = dict(zip(keys, values))\n",
    "\n",
    "# Parse the capture start time\n",
    "date_format = '%Y-%m-%d %I.%M.%S.%f %p'\n",
    "pose_info['Capture Start Datetime'] = pd.to_datetime(pose_info['Capture Start Time'], format=date_format)\n",
    "print('Capture Start Datetime: ', pose_info['Capture Start Datetime'])"
   ]
  },
  {
   "cell_type": "markdown",
   "metadata": {},
   "source": [
    "## Read file data"
   ]
  },
  {
   "cell_type": "code",
   "execution_count": 4,
   "metadata": {
    "collapsed": false
   },
   "outputs": [],
   "source": [
    "names=['frame_id','time',\n",
    "       'rotation.x','rotation.y','rotation.z','rotation.w',\n",
    "       'translation.x','translation.y','translation.z',\n",
    "       'error_per_marker']\n",
    "pose_df = pd.read_csv(csv_pose_file, skiprows=header_length, names=names, index_col='frame_id')\n",
    "pose_df['datetime'] = pd.to_datetime(pose_df['time'], unit='s')\n",
    "pose_timedelta = pose_info['Capture Start Datetime'] - pose_df['datetime'][0]\n",
    "pose_df['datetime'] = pose_df['datetime'] + pose_timedelta + pd.datetools.timedelta(seconds=offset)"
   ]
  },
  {
   "cell_type": "markdown",
   "metadata": {},
   "source": [
    "## View data"
   ]
  },
  {
   "cell_type": "code",
   "execution_count": 5,
   "metadata": {
    "collapsed": false
   },
   "outputs": [
    {
     "data": {
      "text/html": [
       "<div style=\"max-height:1000px;max-width:1500px;overflow:auto;\">\n",
       "<table border=\"1\" class=\"dataframe\">\n",
       "  <thead>\n",
       "    <tr style=\"text-align: right;\">\n",
       "      <th></th>\n",
       "      <th>time</th>\n",
       "      <th>rotation.x</th>\n",
       "      <th>rotation.y</th>\n",
       "      <th>rotation.z</th>\n",
       "      <th>rotation.w</th>\n",
       "      <th>translation.x</th>\n",
       "      <th>translation.y</th>\n",
       "      <th>translation.z</th>\n",
       "      <th>error_per_marker</th>\n",
       "      <th>datetime</th>\n",
       "    </tr>\n",
       "    <tr>\n",
       "      <th>frame_id</th>\n",
       "      <th></th>\n",
       "      <th></th>\n",
       "      <th></th>\n",
       "      <th></th>\n",
       "      <th></th>\n",
       "      <th></th>\n",
       "      <th></th>\n",
       "      <th></th>\n",
       "      <th></th>\n",
       "      <th></th>\n",
       "    </tr>\n",
       "  </thead>\n",
       "  <tbody>\n",
       "    <tr>\n",
       "      <th>0</th>\n",
       "      <td> 0.000000</td>\n",
       "      <td> 0.001154</td>\n",
       "      <td> 0.007851</td>\n",
       "      <td>-0.002402</td>\n",
       "      <td> 0.999966</td>\n",
       "      <td>-1.395789</td>\n",
       "      <td> 0.790427</td>\n",
       "      <td> 0.443426</td>\n",
       "      <td> 0.000296</td>\n",
       "      <td>2016-02-04 19:20:44.718000</td>\n",
       "    </tr>\n",
       "    <tr>\n",
       "      <th>1</th>\n",
       "      <td> 0.008333</td>\n",
       "      <td> 0.001172</td>\n",
       "      <td> 0.007781</td>\n",
       "      <td>-0.002358</td>\n",
       "      <td> 0.999966</td>\n",
       "      <td>-1.395765</td>\n",
       "      <td> 0.790421</td>\n",
       "      <td> 0.443417</td>\n",
       "      <td> 0.000296</td>\n",
       "      <td>2016-02-04 19:20:44.726333</td>\n",
       "    </tr>\n",
       "    <tr>\n",
       "      <th>2</th>\n",
       "      <td> 0.016667</td>\n",
       "      <td> 0.001205</td>\n",
       "      <td> 0.007746</td>\n",
       "      <td>-0.002356</td>\n",
       "      <td> 0.999967</td>\n",
       "      <td>-1.395745</td>\n",
       "      <td> 0.790440</td>\n",
       "      <td> 0.443396</td>\n",
       "      <td> 0.000299</td>\n",
       "      <td>2016-02-04 19:20:44.734667</td>\n",
       "    </tr>\n",
       "    <tr>\n",
       "      <th>3</th>\n",
       "      <td> 0.025000</td>\n",
       "      <td> 0.001267</td>\n",
       "      <td> 0.007711</td>\n",
       "      <td>-0.002414</td>\n",
       "      <td> 0.999967</td>\n",
       "      <td>-1.395738</td>\n",
       "      <td> 0.790451</td>\n",
       "      <td> 0.443383</td>\n",
       "      <td> 0.000290</td>\n",
       "      <td>2016-02-04 19:20:44.743000</td>\n",
       "    </tr>\n",
       "    <tr>\n",
       "      <th>4</th>\n",
       "      <td> 0.033333</td>\n",
       "      <td> 0.001185</td>\n",
       "      <td> 0.007789</td>\n",
       "      <td>-0.002403</td>\n",
       "      <td> 0.999966</td>\n",
       "      <td>-1.395774</td>\n",
       "      <td> 0.790434</td>\n",
       "      <td> 0.443407</td>\n",
       "      <td> 0.000298</td>\n",
       "      <td>2016-02-04 19:20:44.751333</td>\n",
       "    </tr>\n",
       "  </tbody>\n",
       "</table>\n",
       "<p>5 rows × 10 columns</p>\n",
       "</div>"
      ],
      "text/plain": [
       "              time  rotation.x  rotation.y  rotation.z  rotation.w  \\\n",
       "frame_id                                                             \n",
       "0         0.000000    0.001154    0.007851   -0.002402    0.999966   \n",
       "1         0.008333    0.001172    0.007781   -0.002358    0.999966   \n",
       "2         0.016667    0.001205    0.007746   -0.002356    0.999967   \n",
       "3         0.025000    0.001267    0.007711   -0.002414    0.999967   \n",
       "4         0.033333    0.001185    0.007789   -0.002403    0.999966   \n",
       "\n",
       "          translation.x  translation.y  translation.z  error_per_marker  \\\n",
       "frame_id                                                                  \n",
       "0             -1.395789       0.790427       0.443426          0.000296   \n",
       "1             -1.395765       0.790421       0.443417          0.000296   \n",
       "2             -1.395745       0.790440       0.443396          0.000299   \n",
       "3             -1.395738       0.790451       0.443383          0.000290   \n",
       "4             -1.395774       0.790434       0.443407          0.000298   \n",
       "\n",
       "                           datetime  \n",
       "frame_id                             \n",
       "0        2016-02-04 19:20:44.718000  \n",
       "1        2016-02-04 19:20:44.726333  \n",
       "2        2016-02-04 19:20:44.734667  \n",
       "3        2016-02-04 19:20:44.743000  \n",
       "4        2016-02-04 19:20:44.751333  \n",
       "\n",
       "[5 rows x 10 columns]"
      ]
     },
     "execution_count": 5,
     "metadata": {},
     "output_type": "execute_result"
    }
   ],
   "source": [
    "pose_df.head()"
   ]
  },
  {
   "cell_type": "code",
   "execution_count": 6,
   "metadata": {
    "collapsed": false
   },
   "outputs": [
    {
     "data": {
      "text/plain": [
       "<matplotlib.axes.AxesSubplot at 0x7fde0ee16f10>"
      ]
     },
     "execution_count": 6,
     "metadata": {},
     "output_type": "execute_result"
    },
    {
     "data": {
      "image/png": "[encoded data removed]",
      "text/plain": [
       "<matplotlib.figure.Figure at 0x7fde0ee16950>"
      ]
     },
     "metadata": {},
     "output_type": "display_data"
    }
   ],
   "source": [
    "%matplotlib inline\n",
    "pose_df.set_index('time')['translation.x'].plot()"
   ]
  },
  {
   "cell_type": "markdown",
   "metadata": {},
   "source": [
    "## Save to bagfile"
   ]
  },
  {
   "cell_type": "code",
   "execution_count": 7,
   "metadata": {
    "collapsed": false
   },
   "outputs": [],
   "source": [
    "with rosbag.Bag(output_bag, 'w') as outbag:\n",
    "    for index, row in pose_df.iterrows():\n",
    "        # create TF msg \n",
    "        tf_msg = tf.msg.tfMessage()\n",
    "        geo_msg = geometry_msgs.msg.TransformStamped()\n",
    "        ros_time_stamp = rospy.Time.from_sec((row['datetime'] - pd.datetools.datetime(1970,1,1)).total_seconds())\n",
    "        geo_msg.header.stamp = ros_time_stamp\n",
    "        geo_msg.header.seq = index\n",
    "        geo_msg.header.frame_id = frame_id\n",
    "        geo_msg.child_frame_id = child_frame_id\n",
    "        geo_msg.transform.translation.x = row['translation.x']\n",
    "        geo_msg.transform.translation.y = row['translation.y']\n",
    "        geo_msg.transform.translation.z = row['translation.z']\n",
    "        geo_msg.transform.rotation.x = row['rotation.x']\n",
    "        geo_msg.transform.rotation.y = row['rotation.y']\n",
    "        geo_msg.transform.rotation.z = row['rotation.z']\n",
    "        geo_msg.transform.rotation.w = row['rotation.w']\n",
    "        tf_msg.transforms.append(geo_msg)\n",
    "        outbag.write('/tf', tf_msg, geo_msg.header.stamp)"
   ]
  }
 ],
 "metadata": {
  "kernelspec": {
   "display_name": "Python 2",
   "language": "python",
   "name": "python2"
  },
  "language_info": {
   "codemirror_mode": {
    "name": "ipython",
    "version": 2
   },
   "file_extension": ".py",
   "mimetype": "text/x-python",
   "name": "python",
   "nbconvert_exporter": "python",
   "pygments_lexer": "ipython2",
   "version": "2.7.6"
  }
 },
 "nbformat": 4,
 "nbformat_minor": 0
}
