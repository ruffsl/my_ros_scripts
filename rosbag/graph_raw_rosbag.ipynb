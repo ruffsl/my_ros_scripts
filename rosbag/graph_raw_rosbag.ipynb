{
 "cells": [
  {
   "cell_type": "code",
   "execution_count": 1,
   "metadata": {
    "collapsed": false
   },
   "outputs": [],
   "source": [
    "import rosbag_pandas\n",
    "import datetime\n",
    "import pandas as pd\n",
    "import numpy as np"
   ]
  },
  {
   "cell_type": "code",
   "execution_count": 2,
   "metadata": {
    "collapsed": false
   },
   "outputs": [],
   "source": [
    "df = rosbag_pandas.bag_to_dataframe('raw_ron_data19__2015-09-14-21-01-48.bag')"
   ]
  },
  {
   "cell_type": "code",
   "execution_count": 3,
   "metadata": {
    "collapsed": false
   },
   "outputs": [],
   "source": [
    "ebt = df['object_tracking_2d_ros_detections__detections']"
   ]
  },
  {
   "cell_type": "code",
   "execution_count": 4,
   "metadata": {
    "collapsed": false
   },
   "outputs": [],
   "source": [
    "ebt_pose__pose_pose_orientation_w = pd.Series()\n",
    "ebt_pose__pose_pose_orientation_x = pd.Series()\n",
    "ebt_pose__pose_pose_orientation_y = pd.Series()\n",
    "ebt_pose__pose_pose_orientation_z = pd.Series()\n",
    "ebt_pose__pose_pose_position_x = pd.Series()\n",
    "ebt_pose__pose_pose_position_y = pd.Series()\n",
    "ebt_pose__pose_pose_position_z = pd.Series()\n",
    "\n",
    "for i in ebt.index:\n",
    "    ebt_i = ebt.at_time(i)[0]\n",
    "    if(ebt_i is not None):\n",
    "        ebt_i = ebt_i[0]\n",
    "        ebt_pose__pose_pose_orientation_w.set_value(i, ebt_i.pose.pose.orientation.w)\n",
    "        ebt_pose__pose_pose_orientation_x.set_value(i, ebt_i.pose.pose.orientation.x)\n",
    "        ebt_pose__pose_pose_orientation_y.set_value(i, ebt_i.pose.pose.orientation.y)\n",
    "        ebt_pose__pose_pose_orientation_z.set_value(i, ebt_i.pose.pose.orientation.z)\n",
    "        ebt_pose__pose_pose_position_x.set_value(i, ebt_i.pose.pose.position.x)\n",
    "        ebt_pose__pose_pose_position_y.set_value(i, ebt_i.pose.pose.position.y)\n",
    "        ebt_pose__pose_pose_position_z.set_value(i, ebt_i.pose.pose.position.z)"
   ]
  },
  {
   "cell_type": "code",
   "execution_count": 5,
   "metadata": {
    "collapsed": true
   },
   "outputs": [],
   "source": [
    "df['ebt_pose__pose_pose_orientation_w'] = ebt_pose__pose_pose_orientation_w\n",
    "df['ebt_pose__pose_pose_orientation_x'] = ebt_pose__pose_pose_orientation_x\n",
    "df['ebt_pose__pose_pose_orientation_y'] = ebt_pose__pose_pose_orientation_y\n",
    "df['ebt_pose__pose_pose_orientation_z'] = ebt_pose__pose_pose_orientation_z\n",
    "df['ebt_pose__pose_pose_position_x'] = ebt_pose__pose_pose_position_x\n",
    "df['ebt_pose__pose_pose_position_y'] = ebt_pose__pose_pose_position_y\n",
    "df['ebt_pose__pose_pose_position_z'] = ebt_pose__pose_pose_position_z"
   ]
  },
  {
   "cell_type": "code",
   "execution_count": 6,
   "metadata": {
    "collapsed": false
   },
   "outputs": [],
   "source": [
    "df = df.drop('object_tracking_2d_ros_detections__detections', 1)"
   ]
  },
  {
   "cell_type": "code",
   "execution_count": 7,
   "metadata": {
    "collapsed": false
   },
   "outputs": [
    {
     "name": "stdout",
     "output_type": "stream",
     "text": [
      "Robot_1_pose__pose_orientation_w\n",
      "Robot_1_pose__pose_orientation_x\n",
      "Robot_1_pose__pose_orientation_y\n",
      "Robot_1_pose__pose_orientation_z\n",
      "Robot_1_pose__pose_position_x\n",
      "Robot_1_pose__pose_position_y\n",
      "Robot_1_pose__pose_position_z\n",
      "svo_pose__pose_covariance\n",
      "svo_pose__pose_pose_orientation_w\n",
      "svo_pose__pose_pose_orientation_x\n",
      "svo_pose__pose_pose_orientation_y\n",
      "svo_pose__pose_pose_orientation_z\n",
      "svo_pose__pose_pose_position_x\n",
      "svo_pose__pose_pose_position_y\n",
      "svo_pose__pose_pose_position_z\n",
      "ebt_pose__pose_pose_orientation_w\n",
      "ebt_pose__pose_pose_orientation_x\n",
      "ebt_pose__pose_pose_orientation_y\n",
      "ebt_pose__pose_pose_orientation_z\n",
      "ebt_pose__pose_pose_position_x\n",
      "ebt_pose__pose_pose_position_y\n",
      "ebt_pose__pose_pose_position_z\n"
     ]
    }
   ],
   "source": [
    "for c in df.columns:\n",
    "    print c"
   ]
  },
  {
   "cell_type": "code",
   "execution_count": 8,
   "metadata": {
    "collapsed": false
   },
   "outputs": [],
   "source": [
    "ground_col = ['Robot_1_pose__pose_position_x',\n",
    "              'Robot_1_pose__pose_position_y',\n",
    "              'Robot_1_pose__pose_position_z',\n",
    "              'Robot_1_pose__pose_orientation_x',\n",
    "              'Robot_1_pose__pose_orientation_y',\n",
    "              'Robot_1_pose__pose_orientation_z',\n",
    "              'Robot_1_pose__pose_orientation_w']\n",
    "ground_list = [df[ground_col[0]], \n",
    "               df[ground_col[1]], \n",
    "               df[ground_col[2]], \n",
    "               df[ground_col[3]], \n",
    "               df[ground_col[4]], \n",
    "               df[ground_col[5]], \n",
    "               df[ground_col[6]]]\n",
    "ground = pd.concat(ground_list, axis=1, keys=ground_col)\n",
    "ground = ground.dropna(how='all')"
   ]
  },
  {
   "cell_type": "code",
   "execution_count": 9,
   "metadata": {
    "collapsed": true
   },
   "outputs": [],
   "source": [
    "ground.to_csv('ground.data', sep=\" \", header=False, date_format=\"%s.%f\")"
   ]
  },
  {
   "cell_type": "code",
   "execution_count": 10,
   "metadata": {
    "collapsed": false
   },
   "outputs": [],
   "source": [
    "svo_col = ['svo_pose__pose_pose_position_x',\n",
    "           'svo_pose__pose_pose_position_y',\n",
    "           'svo_pose__pose_pose_position_z',\n",
    "           'svo_pose__pose_pose_orientation_x',\n",
    "           'svo_pose__pose_pose_orientation_y',\n",
    "           'svo_pose__pose_pose_orientation_z',\n",
    "           'svo_pose__pose_pose_orientation_w']\n",
    "svo_list = [df[svo_col[0]], \n",
    "            df[svo_col[1]], \n",
    "            df[svo_col[2]], \n",
    "            df[svo_col[3]], \n",
    "            df[svo_col[4]], \n",
    "            df[svo_col[5]], \n",
    "            df[svo_col[6]]]\n",
    "svo = pd.concat(svo_list, axis=1, keys=svo_col)\n",
    "svo = svo.dropna(how='all')"
   ]
  },
  {
   "cell_type": "code",
   "execution_count": 11,
   "metadata": {
    "collapsed": true
   },
   "outputs": [],
   "source": [
    "svo.to_csv('svo.data', sep=\" \", header=False, date_format=\"%s.%f\")"
   ]
  },
  {
   "cell_type": "code",
   "execution_count": 12,
   "metadata": {
    "collapsed": false
   },
   "outputs": [],
   "source": [
    "ebt_col = ['ebt_pose__pose_pose_position_x',\n",
    "           'ebt_pose__pose_pose_position_y',\n",
    "           'ebt_pose__pose_pose_position_z',\n",
    "           'ebt_pose__pose_pose_orientation_x',\n",
    "           'ebt_pose__pose_pose_orientation_y',\n",
    "           'ebt_pose__pose_pose_orientation_z',\n",
    "           'ebt_pose__pose_pose_orientation_w']\n",
    "ebt_list = [df[ebt_col[0]], \n",
    "            df[ebt_col[1]], \n",
    "            df[ebt_col[2]], \n",
    "            df[ebt_col[3]], \n",
    "            df[ebt_col[4]], \n",
    "            df[ebt_col[5]], \n",
    "            df[ebt_col[6]]]\n",
    "ebt = pd.concat(ebt_list, axis=1, keys=ebt_col)\n",
    "ebt = ebt.dropna(how='all')"
   ]
  },
  {
   "cell_type": "code",
   "execution_count": 13,
   "metadata": {
    "collapsed": true
   },
   "outputs": [],
   "source": [
    "ebt.to_csv('ebt.data', sep=\" \", header=False, date_format=\"%s.%f\")"
   ]
  },
  {
   "cell_type": "code",
   "execution_count": null,
   "metadata": {
    "collapsed": true
   },
   "outputs": [],
   "source": []
  },
  {
   "cell_type": "code",
   "execution_count": 29,
   "metadata": {
    "collapsed": false
   },
   "outputs": [
    {
     "name": "stdout",
     "output_type": "stream",
     "text": [
      "0.127295\n"
     ]
    }
   ],
   "source": [
    "%%bash\n",
    "python rgbd_benchmark_tools/evaluate_ate.py ground.data ebt.data --plot ebt_ate_.pdf --save ebt_ate_error.txt"
   ]
  },
  {
   "cell_type": "code",
   "execution_count": 32,
   "metadata": {
    "collapsed": false
   },
   "outputs": [
    {
     "name": "stdout",
     "output_type": "stream",
     "text": [
      "0.122887403289\n"
     ]
    }
   ],
   "source": [
    "%%bash\n",
    "python rgbd_benchmark_tools/evaluate_rpe.py ground.data ebt.data --plot ebt_rpe_.pdf --save ebt_rpe_error.txt --fixed_delta"
   ]
  },
  {
   "cell_type": "code",
   "execution_count": 30,
   "metadata": {
    "collapsed": false
   },
   "outputs": [
    {
     "name": "stdout",
     "output_type": "stream",
     "text": [
      "0.212667\n"
     ]
    }
   ],
   "source": [
    "%%bash\n",
    "python rgbd_benchmark_tools/evaluate_ate.py ground.data svo.data --plot svo_ate.pdf --save svo_ate_error.txt"
   ]
  },
  {
   "cell_type": "code",
   "execution_count": 33,
   "metadata": {
    "collapsed": false
   },
   "outputs": [
    {
     "name": "stdout",
     "output_type": "stream",
     "text": [
      "0.14904777773\n"
     ]
    }
   ],
   "source": [
    "%%bash\n",
    "python rgbd_benchmark_tools/evaluate_rpe.py ground.data svo.data --plot svo_rpe.pdf --save svo_rpe_error.txt --fixed_delta"
   ]
  },
  {
   "cell_type": "code",
   "execution_count": null,
   "metadata": {
    "collapsed": true
   },
   "outputs": [],
   "source": []
  }
 ],
 "metadata": {
  "kernelspec": {
   "display_name": "Python 2",
   "language": "python",
   "name": "python2"
  },
  "language_info": {
   "codemirror_mode": {
    "name": "ipython",
    "version": 2
   },
   "file_extension": ".py",
   "mimetype": "text/x-python",
   "name": "python",
   "nbconvert_exporter": "python",
   "pygments_lexer": "ipython2",
   "version": "2.7.6"
  }
 },
 "nbformat": 4,
 "nbformat_minor": 0
}
