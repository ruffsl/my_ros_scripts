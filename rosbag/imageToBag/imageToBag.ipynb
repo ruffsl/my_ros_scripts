{
 "cells": [
  {
   "cell_type": "code",
   "execution_count": 3,
   "metadata": {
    "collapsed": true
   },
   "outputs": [],
   "source": [
    "import time, sys, os\n",
    "from ros import rosbag\n",
    "import roslib\n",
    "roslib.load_manifest('sensor_msgs')\n",
    "from sensor_msgs.msg import Image\n",
    "\n",
    "import ImageFile"
   ]
  },
  {
   "cell_type": "code",
   "execution_count": 4,
   "metadata": {
    "collapsed": true
   },
   "outputs": [],
   "source": [
    "def GetFilesFromDir(dir):\n",
    "    '''Generates a list of files from the directory'''\n",
    "    print( \"Searching directory %s\" % dir )\n",
    "    all = []\n",
    "    left_files = []\n",
    "    right_files = []\n",
    "    if os.path.exists(dir):\n",
    "        for path, names, files in os.walk(dir):\n",
    "            for f in files:\n",
    "                if os.path.splitext(f)[1] in ['.bmp', '.png', '.jpg']:\n",
    "                    if 'left' in f or 'left' in path:\n",
    "                        left_files.append( os.path.join( path, f ) )\n",
    "                    elif 'right' in f or 'right' in path:\n",
    "                        right_files.append( os.path.join( path, f ) )\n",
    "                    all.append( os.path.join( path, f ) )\n",
    "    return all, left_files, right_files"
   ]
  },
  {
   "cell_type": "code",
   "execution_count": 5,
   "metadata": {
    "collapsed": true
   },
   "outputs": [],
   "source": [
    "def CreateMonoBag(imgs, topic, bagname):\n",
    "    '''Creates a bag file with camera images'''\n",
    "    bag = rosbag.Bag(bagname, 'w')\n",
    "\n",
    "    try:\n",
    "        for i in range(len(imgs)):\n",
    "            print(\"Adding %s\" % imgs[i])\n",
    "            fp = open( imgs[i], \"r\" )\n",
    "            p = ImageFile.Parser()\n",
    "\n",
    "            while 1:\n",
    "                s = fp.read(1024)\n",
    "                if not s:\n",
    "                    break\n",
    "                p.feed(s)\n",
    "\n",
    "            im = p.close()\n",
    "            \n",
    "            #TODO: change this to read time from filename string\n",
    "            Stamp = roslib.rostime.Time.from_sec(time.time())\n",
    "\n",
    "            Img = Image()\n",
    "            Img.header.stamp = Stamp\n",
    "            Img.width = im_left.size[0]\n",
    "            Img.height = im_left.size[1]\n",
    "            Img.encoding = \"rgb8\"\n",
    "            Img.header.frame_id = \"camera\"\n",
    "            Img_data = [pix for pixdata in im.getdata() for pix in pixdata]\n",
    "            Img_.data = Img_data\n",
    "\n",
    "            bag.write(topic, Img, Stamp)\n",
    "    finally:\n",
    "        bag.close()"
   ]
  },
  {
   "cell_type": "code",
   "execution_count": null,
   "metadata": {
    "collapsed": true
   },
   "outputs": [],
   "source": [
    "def CreateBag(imagedir, topic, bagname):\n",
    "    '''Creates the actual bag file by successively adding images'''\n",
    "    all_imgs, left_imgs, right_imgs = GetFilesFromDir(imagedir)\n",
    "    if len(all_imgs) <= 0:\n",
    "        print(\"No images found in %s\" % args[0])\n",
    "        exit()\n",
    "\n",
    "    CreateMonoBag(all_imgs, topic, bagname)"
   ]
  },
  {
   "cell_type": "code",
   "execution_count": 7,
   "metadata": {
    "collapsed": true
   },
   "outputs": [],
   "source": [
    "bagfiles = ['test.bag']\n",
    "path = '/tmp/bags/'\n",
    "imagedir = '/tmp/images/'\n",
    "topic_name='/camera/image_raw'\n",
    "# for bagfile in bagfiles:\n",
    "#     CreateBag(imagedir, topic_name, path+bagfile)"
   ]
  },
  {
   "cell_type": "code",
   "execution_count": 15,
   "metadata": {
    "collapsed": false
   },
   "outputs": [
    {
     "name": "stdout",
     "output_type": "stream",
     "text": [
      "rosbag reindex test.bag\r\n"
     ]
    }
   ],
   "source": [
    "for bagfile in bagfiles:\n",
    "    !rosbag reindex {bagfile}"
   ]
  }
 ],
 "metadata": {
  "kernelspec": {
   "display_name": "Python 2",
   "language": "python",
   "name": "python2"
  },
  "language_info": {
   "codemirror_mode": {
    "name": "ipython",
    "version": 2
   },
   "file_extension": ".py",
   "mimetype": "text/x-python",
   "name": "python",
   "nbconvert_exporter": "python",
   "pygments_lexer": "ipython2",
   "version": "2.7.6"
  }
 },
 "nbformat": 4,
 "nbformat_minor": 0
}
