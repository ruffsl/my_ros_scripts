{
 "cells": [
  {
   "cell_type": "markdown",
   "metadata": {},
   "source": [
    "# Synchronize Object and Base Pose TF\n",
    "\n",
    "This notebook synchronizes data from extracted bagfiles. Assuming the data directory containt are like so:\n",
    "> ```\n",
    "dataDir\n",
    "    base.txt # index of pose of base by time\n",
    "    object.txt # index of pose of object by time\n",
    "```\n",
    "\n",
    "The resulting output is like so:\n",
    "\n",
    "> ```\n",
    "dataDir\n",
    "    base_sync.txt # index of pose of base by time\n",
    "    object_sync.txt # index of pose of object by time\n",
    "```"
   ]
  },
  {
   "cell_type": "code",
   "execution_count": 1,
   "metadata": {
    "collapsed": false
   },
   "outputs": [],
   "source": [
    "import errno\n",
    "import glob\n",
    "import numpy as np\n",
    "import os\n",
    "import pandas as pd\n",
    "import shutil\n",
    "from rgbd_benchmark_tools import associate"
   ]
  },
  {
   "cell_type": "markdown",
   "metadata": {},
   "source": [
    "## Configure parameters"
   ]
  },
  {
   "cell_type": "code",
   "execution_count": 2,
   "metadata": {
    "collapsed": true
   },
   "outputs": [],
   "source": [
    "dataDir = '/home/ruffsl/Data/objects'\n",
    "sample_rate = 1 # output sample rate (every x image pair)\n",
    "frame_rate = 30 # input frame rate (fps)\n",
    "tolerance = 0.6 # 60% period tolerance of frame rate\n",
    "object_to_base_offset = 0 # in seconds"
   ]
  },
  {
   "cell_type": "markdown",
   "metadata": {},
   "source": [
    "## Define helper functions"
   ]
  },
  {
   "cell_type": "code",
   "execution_count": 3,
   "metadata": {
    "collapsed": true
   },
   "outputs": [],
   "source": [
    "def insertionSort(alist):\n",
    "    for index in range(1,len(alist)):\n",
    "        currentvalue = alist[index]\n",
    "        position = index\n",
    "        while position>0 and alist[position-1][0]>currentvalue[0]:\n",
    "            alist[position]=alist[position-1]\n",
    "            position = position-1\n",
    "        alist[position]=currentvalue\n",
    "    return alist"
   ]
  },
  {
   "cell_type": "markdown",
   "metadata": {},
   "source": [
    "## Create paths"
   ]
  },
  {
   "cell_type": "code",
   "execution_count": 4,
   "metadata": {
    "collapsed": false
   },
   "outputs": [],
   "source": [
    "base_file = os.path.join(dataDir,'base.txt')\n",
    "object_file = os.path.join(dataDir,'object.txt')\n",
    "\n",
    "base_sync_file = os.path.join(dataDir,'base_sync.txt')\n",
    "object_sync_file = os.path.join(dataDir,'object_sync.txt')"
   ]
  },
  {
   "cell_type": "markdown",
   "metadata": {},
   "source": [
    "## Load and associate data"
   ]
  },
  {
   "cell_type": "code",
   "execution_count": 5,
   "metadata": {
    "collapsed": false
   },
   "outputs": [],
   "source": [
    "base_list = associate.read_file_list(base_file)\n",
    "object_list = associate.read_file_list(object_file)\n",
    "\n",
    "max_difference = tolerance / frame_rate\n",
    "object_base_matches = associate.associate(object_list, base_list, object_to_base_offset, max_difference)"
   ]
  },
  {
   "cell_type": "markdown",
   "metadata": {},
   "source": [
    "## Sort data by time"
   ]
  },
  {
   "cell_type": "code",
   "execution_count": 6,
   "metadata": {
    "collapsed": false
   },
   "outputs": [],
   "source": [
    "object_base_matches = insertionSort(object_base_matches)\n",
    "\n",
    "object_matches = np.array(object_base_matches)[:,0]\n",
    "base_matches = np.array(object_base_matches)[:,1]"
   ]
  },
  {
   "cell_type": "markdown",
   "metadata": {},
   "source": [
    "## Load pose info into dataframe"
   ]
  },
  {
   "cell_type": "code",
   "execution_count": 7,
   "metadata": {
    "collapsed": false
   },
   "outputs": [],
   "source": [
    "base_df = pd.read_csv(base_file, header=None, delim_whitespace=True, dtype={0:str})\n",
    "base_df = base_df.set_index(0)\n",
    "\n",
    "object_df = pd.read_csv(object_file, header=None, delim_whitespace=True, dtype={0:str})\n",
    "object_df = object_df.set_index(0)"
   ]
  },
  {
   "cell_type": "markdown",
   "metadata": {},
   "source": [
    "## Loop over matches and format as string for index"
   ]
  },
  {
   "cell_type": "code",
   "execution_count": 8,
   "metadata": {
    "collapsed": false
   },
   "outputs": [],
   "source": [
    "base_poses = []\n",
    "object_poses = []\n",
    "for object_pose, base_pose in object_base_matches[0::sample_rate]:\n",
    "    base_poses.append(\"{:.6f}\".format(base_pose))\n",
    "    object_poses.append(\"{:.6f}\".format(object_pose))"
   ]
  },
  {
   "cell_type": "markdown",
   "metadata": {},
   "source": [
    "## Save pose file as well"
   ]
  },
  {
   "cell_type": "code",
   "execution_count": 9,
   "metadata": {
    "collapsed": true
   },
   "outputs": [],
   "source": [
    "base_df2 = base_df[base_df.index.map(lambda x: x in base_poses)]\n",
    "base_df2.to_csv(base_sync_file, header=None)\n",
    "\n",
    "object_df2 = object_df[object_df.index.map(lambda x: x in object_poses)]\n",
    "object_df2.to_csv(object_sync_file, header=None)"
   ]
  }
 ],
 "metadata": {
  "kernelspec": {
   "display_name": "Python 2",
   "language": "python",
   "name": "python2"
  },
  "language_info": {
   "codemirror_mode": {
    "name": "ipython",
    "version": 2
   },
   "file_extension": ".py",
   "mimetype": "text/x-python",
   "name": "python",
   "nbconvert_exporter": "python",
   "pygments_lexer": "ipython2",
   "version": "2.7.6"
  }
 },
 "nbformat": 4,
 "nbformat_minor": 0
}
