{
 "cells": [
  {
   "cell_type": "markdown",
   "metadata": {},
   "source": [
    "# Synchronize Object and Base Pose TF\n",
    "\n",
    "This notebook synchronizes data from extracted bagfiles. Assuming the data directory containt are like so:\n",
    "> ```\n",
    "dataDir\n",
    "    base.txt # index of pose of base by time\n",
    "    object.txt # index of pose of object by time\n",
    "```\n",
    "\n",
    "The resulting output is like so:\n",
    "\n",
    "> ```\n",
    "dataDir\n",
    "    base_sync.txt # index of pose of base by time\n",
    "    object_sync.txt # index of pose of object by time\n",
    "```"
   ]
  },
  {
   "cell_type": "code",
   "execution_count": 29,
   "metadata": {
    "collapsed": false
   },
   "outputs": [],
   "source": [
    "from decimal import Decimal\n",
    "import numpy as np\n",
    "import pandas as pd\n",
    "import os"
   ]
  },
  {
   "cell_type": "markdown",
   "metadata": {},
   "source": [
    "## Configure parameters"
   ]
  },
  {
   "cell_type": "code",
   "execution_count": 30,
   "metadata": {
    "collapsed": true
   },
   "outputs": [],
   "source": [
    "dataDir = '/home/ruffsl/Desktop/bag_final/tide_occ'\n",
    "# sample_rate = 1 # output sample rate (every x image pair)\n",
    "# frame_rate = 30 # input frame rate (fps)\n",
    "# tolerance = 0.3 # 60% period tolerance of frame rate\n",
    "# object_to_base_offset = 0 # in seconds"
   ]
  },
  {
   "cell_type": "markdown",
   "metadata": {},
   "source": [
    "## Create paths"
   ]
  },
  {
   "cell_type": "code",
   "execution_count": 31,
   "metadata": {
    "collapsed": false
   },
   "outputs": [],
   "source": [
    "base_file = os.path.join(dataDir,'base.txt')\n",
    "object_file = os.path.join(dataDir,'object.txt')\n",
    "\n",
    "base_sync_file = os.path.join(dataDir,'base_sync.txt')\n",
    "object_sync_file = os.path.join(dataDir,'object_sync.txt')"
   ]
  },
  {
   "cell_type": "markdown",
   "metadata": {},
   "source": [
    "## Load pose info into dataframe"
   ]
  },
  {
   "cell_type": "code",
   "execution_count": 32,
   "metadata": {
    "collapsed": false
   },
   "outputs": [],
   "source": [
    "base_df = pd.read_csv(base_file, header=None, delim_whitespace=True, dtype={0:str})\n",
    "base_df = base_df.set_index(0)\n",
    "\n",
    "object_df = pd.read_csv(object_file, header=None, delim_whitespace=True, dtype={0:str})\n",
    "object_df = object_df.set_index(0)"
   ]
  },
  {
   "cell_type": "markdown",
   "metadata": {},
   "source": [
    "## Load and associate data"
   ]
  },
  {
   "cell_type": "code",
   "execution_count": 33,
   "metadata": {
    "collapsed": false
   },
   "outputs": [],
   "source": [
    "base_array = np.array(base_df.index, dtype=np.dtype(Decimal))\n",
    "object_array = np.array(object_df.index, dtype=np.dtype(Decimal))\n",
    "\n",
    "idx = np.searchsorted(base_array, object_array) - 1\n",
    "mask = idx >= 0\n",
    "df = pd.DataFrame({\"base_array\":base_array[idx][mask], \"object_array\":object_array[mask]})"
   ]
  },
  {
   "cell_type": "markdown",
   "metadata": {},
   "source": [
    "## Loop over matches and format as string for index"
   ]
  },
  {
   "cell_type": "code",
   "execution_count": 34,
   "metadata": {
    "collapsed": true
   },
   "outputs": [],
   "source": [
    "base_poses = df['base_array'].astype(basestring).values\n",
    "object_poses = df['object_array'].astype(basestring).values"
   ]
  },
  {
   "cell_type": "markdown",
   "metadata": {},
   "source": [
    "## Save pose file as well"
   ]
  },
  {
   "cell_type": "code",
   "execution_count": 35,
   "metadata": {
    "collapsed": true
   },
   "outputs": [],
   "source": [
    "base_df2 = base_df[base_df.index.map(lambda x: x in base_poses)]\n",
    "base_df2.to_csv(base_sync_file, header=None)\n",
    "\n",
    "object_df2 = object_df[object_df.index.map(lambda x: x in object_poses)]\n",
    "object_df2.to_csv(object_sync_file, header=None)"
   ]
  }
 ],
 "metadata": {
  "kernelspec": {
   "display_name": "Python 2",
   "language": "python",
   "name": "python2"
  },
  "language_info": {
   "codemirror_mode": {
    "name": "ipython",
    "version": 2
   },
   "file_extension": ".py",
   "mimetype": "text/x-python",
   "name": "python",
   "nbconvert_exporter": "python",
   "pygments_lexer": "ipython2",
   "version": "2.7.6"
  }
 },
 "nbformat": 4,
 "nbformat_minor": 0
}
