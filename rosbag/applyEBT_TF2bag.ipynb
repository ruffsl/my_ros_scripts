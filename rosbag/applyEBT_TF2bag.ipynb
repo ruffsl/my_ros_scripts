{
 "cells": [
  {
   "cell_type": "code",
   "execution_count": 25,
   "metadata": {
    "collapsed": false
   },
   "outputs": [],
   "source": [
    "import rosbag\n",
    "import tf\n",
    "from geometry_msgs import msg\n",
    "import tf_conversions.posemath as posemath\n",
    "import numpy as np"
   ]
  },
  {
   "cell_type": "code",
   "execution_count": 29,
   "metadata": {
    "collapsed": false
   },
   "outputs": [],
   "source": [
    "input_bag = \"/home/ruffsl/git/ruffsl/my_ros_scripts/rosbag/raw_ron_data19__2015-09-14-21-01-48.bag\"\n",
    "output_bag = \"/home/ruffsl/git/ruffsl/my_ros_scripts/rosbag/raw_ron_data19__2015-09-14-21-01-48.bag\"\n",
    "centroid2optic = np.matrix([[0, 0, 1, -0.271646],\n",
    "                          [-1, 0, 0, 0.00771],\n",
    "                          [0, -1, 0, -0.0827],\n",
    "                          [0, 0, 0, 1]])"
   ]
  },
  {
   "cell_type": "markdown",
   "metadata": {},
   "source": [
    "http://www.euclideanspace.com/maths/geometry/rotations/conversions/eulerToMatrix/examples/index.htm"
   ]
  },
  {
   "cell_type": "code",
   "execution_count": 31,
   "metadata": {
    "collapsed": false
   },
   "outputs": [],
   "source": [
    "with rosbag.Bag(output_bag, 'w') as outbag:\n",
    "    for topic, msg, t in rosbag.Bag(input_bag).read_messages():\n",
    "        # This also replaces tf timestamps under the assumption \n",
    "        # that all transforms in the message share the same timestamp\n",
    "        if topic == \"/Robot_1/pose\":\n",
    "            q = np.zeros(4)\n",
    "            q[0] = msg.pose.orientation.x\n",
    "            q[1] = msg.pose.orientation.y\n",
    "            q[2] = msg.pose.orientation.z\n",
    "            q[3] = msg.pose.orientation.w\n",
    "            P = tf.transformations.quaternion_matrix(q)\n",
    "            P[0, 3] = msg.pose.position.x\n",
    "            P[1, 3] = msg.pose.position.y\n",
    "            P[2, 3] = msg.pose.position.z\n",
    "            P_ = P*centroid2optic\n",
    "\n",
    "            q = tf.transformations.quaternion_from_matrix(P_)\n",
    "            msg.pose.orientation.x = q[0]\n",
    "            msg.pose.orientation.y = q[1]\n",
    "            msg.pose.orientation.z = q[2]\n",
    "            msg.pose.orientation.w = q[3]\n",
    "            msg.pose.position.x = P_[0, 3]\n",
    "            msg.pose.position.y = P_[1, 3]\n",
    "            msg.pose.position.z = P_[2, 3]\n",
    "#             print msg\n",
    "#             print P\n",
    "#             print P_\n",
    "#             break\n",
    "            outbag.write(topic, msg, msg.header.stamp)\n",
    "        else:\n",
    "            outbag.write(topic, msg, msg.header.stamp if msg._has_header else t)"
   ]
  },
  {
   "cell_type": "code",
   "execution_count": 74,
   "metadata": {
    "collapsed": false
   },
   "outputs": [
    {
     "data": {
      "text/plain": [
       "array([[ 1.        ,  0.        ,  0.        ,  0.        ],\n",
       "       [ 0.        ,  0.99244503, -0.12269009,  0.        ],\n",
       "       [ 0.        ,  0.12269009,  0.99244503,  0.        ],\n",
       "       [ 0.        ,  0.        ,  0.        ,  1.        ]])"
      ]
     },
     "execution_count": 74,
     "metadata": {},
     "output_type": "execute_result"
    }
   ],
   "source": [
    "R = tf.transformations.quaternion_matrix([0.06146124, 0, 0, 0.99810947])\n",
    "R"
   ]
  },
  {
   "cell_type": "code",
   "execution_count": 28,
   "metadata": {
    "collapsed": false
   },
   "outputs": [],
   "source": [
    "# bag = rosbag.Bag(rosbag_path)\n",
    "# for topic, msg, t in bag.read_messages(topics=['chatter', 'numbers']):\n",
    "# #     print msg\n",
    "#     print topic\n",
    "# bag.close()"
   ]
  },
  {
   "cell_type": "code",
   "execution_count": 63,
   "metadata": {
    "collapsed": false
   },
   "outputs": [],
   "source": [
    "# R = numpy.matrix([[0, 0, 0],\n",
    "#                   [0, 0, 0],\n",
    "#                   [0, 0, 0]])\n",
    "\n",
    "# q = np.array([0,0,1,0])\n",
    "\n",
    "# quaternion_to_R(q, R)\n",
    "\n",
    "# print R\n",
    "\n",
    "# M = numpy.identity(4)\n",
    "# M[:3, :3] = R\n",
    "# print M\n",
    "\n",
    "# R = numpy.identity(4)\n",
    "# # quaternion_from_matrix(R, True)\n",
    "# tf.transformations.quaternion_from_matrix(R)\n",
    "# # q = msg.Quaternion(0,0,0,1)\n",
    "# q = np.array([0,0,1,0])\n",
    "# tf.transformations.quaternion_matrix(q)"
   ]
  },
  {
   "cell_type": "code",
   "execution_count": 55,
   "metadata": {
    "collapsed": true
   },
   "outputs": [],
   "source": [
    "q = msg.Quaternion(0,0,0,1)\n"
   ]
  },
  {
   "cell_type": "code",
   "execution_count": null,
   "metadata": {
    "collapsed": true
   },
   "outputs": [],
   "source": []
  },
  {
   "cell_type": "code",
   "execution_count": 62,
   "metadata": {
    "collapsed": true
   },
   "outputs": [],
   "source": [
    "# def quaternion_to_R(quat, matrix):\n",
    "#     \"\"\"Convert a quaternion into rotation matrix form.\n",
    "\n",
    "#     @param quat:    The quaternion.\n",
    "#     @type quat:     numpy 4D, rank-1 array\n",
    "#     @param matrix:  A 3D matrix to convert to a rotation matrix.\n",
    "#     @type matrix:   numpy 3D, rank-2 array\n",
    "#     \"\"\"\n",
    "\n",
    "#     # Repetitive calculations.\n",
    "#     q4_2 = quat[3]**2\n",
    "#     q12 = quat[0] * quat[1]\n",
    "#     q13 = quat[0] * quat[2]\n",
    "#     q14 = quat[0] * quat[3]\n",
    "#     q23 = quat[1] * quat[2]\n",
    "#     q24 = quat[1] * quat[3]\n",
    "#     q34 = quat[2] * quat[3]\n",
    "\n",
    "#     # The diagonal.\n",
    "#     matrix[0, 0] = 2.0 * (quat[0]**2 + q4_2) - 1.0\n",
    "#     matrix[1, 1] = 2.0 * (quat[1]**2 + q4_2) - 1.0\n",
    "#     matrix[2, 2] = 2.0 * (quat[2]**2 + q4_2) - 1.0\n",
    "\n",
    "#     # Off-diagonal.\n",
    "#     matrix[0, 1] = 2.0 * (q12 - q34)\n",
    "#     matrix[0, 2] = 2.0 * (q13 + q24)\n",
    "#     matrix[1, 2] = 2.0 * (q23 - q14)\n",
    "\n",
    "#     matrix[1, 0] = 2.0 * (q12 + q34)\n",
    "#     matrix[2, 0] = 2.0 * (q13 - q24)\n",
    "#     matrix[2, 1] = 2.0 * (q23 + q14)\n",
    "\n",
    "# def quaternion_from_matrix(matrix, isprecise=False):\n",
    "#     \"\"\"Return quaternion from rotation matrix.\n",
    "\n",
    "#     If isprecise is True, the input matrix is assumed to be a precise rotation\n",
    "#     matrix and a faster algorithm is used.\n",
    "\n",
    "#     >>> q = quaternion_from_matrix(numpy.identity(4), True)\n",
    "#     >>> numpy.allclose(q, [1, 0, 0, 0])\n",
    "#     True\n",
    "#     >>> q = quaternion_from_matrix(numpy.diag([1, -1, -1, 1]))\n",
    "#     >>> numpy.allclose(q, [0, 1, 0, 0]) or numpy.allclose(q, [0, -1, 0, 0])\n",
    "#     True\n",
    "#     >>> R = rotation_matrix(0.123, (1, 2, 3))\n",
    "#     >>> q = quaternion_from_matrix(R, True)\n",
    "#     >>> numpy.allclose(q, [0.9981095, 0.0164262, 0.0328524, 0.0492786])\n",
    "#     True\n",
    "#     >>> R = [[-0.545, 0.797, 0.260, 0], [0.733, 0.603, -0.313, 0],\n",
    "#     ...      [-0.407, 0.021, -0.913, 0], [0, 0, 0, 1]]\n",
    "#     >>> q = quaternion_from_matrix(R)\n",
    "#     >>> numpy.allclose(q, [0.19069, 0.43736, 0.87485, -0.083611])\n",
    "#     True\n",
    "#     >>> R = [[0.395, 0.362, 0.843, 0], [-0.626, 0.796, -0.056, 0],\n",
    "#     ...      [-0.677, -0.498, 0.529, 0], [0, 0, 0, 1]]\n",
    "#     >>> q = quaternion_from_matrix(R)\n",
    "#     >>> numpy.allclose(q, [0.82336615, -0.13610694, 0.46344705, -0.29792603])\n",
    "#     True\n",
    "#     >>> R = random_rotation_matrix()\n",
    "#     >>> q = quaternion_from_matrix(R)\n",
    "#     >>> is_same_transform(R, quaternion_matrix(q))\n",
    "#     True\n",
    "#     >>> R = euler_matrix(0.0, 0.0, numpy.pi/2.0)\n",
    "#     >>> numpy.allclose(quaternion_from_matrix(R, isprecise=False),\n",
    "#     ...                quaternion_from_matrix(R, isprecise=True))\n",
    "#     True\n",
    "\n",
    "#     \"\"\"\n",
    "#     M = numpy.array(matrix, dtype=numpy.float64, copy=False)[:4, :4]\n",
    "#     if isprecise:\n",
    "#         q = numpy.empty((4, ))\n",
    "#         t = numpy.trace(M)\n",
    "#         if t > M[3, 3]:\n",
    "#             q[0] = t\n",
    "#             q[3] = M[1, 0] - M[0, 1]\n",
    "#             q[2] = M[0, 2] - M[2, 0]\n",
    "#             q[1] = M[2, 1] - M[1, 2]\n",
    "#         else:\n",
    "#             i, j, k = 1, 2, 3\n",
    "#             if M[1, 1] > M[0, 0]:\n",
    "#                 i, j, k = 2, 3, 1\n",
    "#             if M[2, 2] > M[i, i]:\n",
    "#                 i, j, k = 3, 1, 2\n",
    "#             t = M[i, i] - (M[j, j] + M[k, k]) + M[3, 3]\n",
    "#             q[i] = t\n",
    "#             q[j] = M[i, j] + M[j, i]\n",
    "#             q[k] = M[k, i] + M[i, k]\n",
    "#             q[3] = M[k, j] - M[j, k]\n",
    "#         q *= 0.5 / math.sqrt(t * M[3, 3])\n",
    "#     else:\n",
    "#         m00 = M[0, 0]\n",
    "#         m01 = M[0, 1]\n",
    "#         m02 = M[0, 2]\n",
    "#         m10 = M[1, 0]\n",
    "#         m11 = M[1, 1]\n",
    "#         m12 = M[1, 2]\n",
    "#         m20 = M[2, 0]\n",
    "#         m21 = M[2, 1]\n",
    "#         m22 = M[2, 2]\n",
    "#         # symmetric matrix K\n",
    "#         K = numpy.array([[m00-m11-m22, 0.0,         0.0,         0.0],\n",
    "#                          [m01+m10,     m11-m00-m22, 0.0,         0.0],\n",
    "#                          [m02+m20,     m12+m21,     m22-m00-m11, 0.0],\n",
    "#                          [m21-m12,     m02-m20,     m10-m01,     m00+m11+m22]])\n",
    "#         K /= 3.0\n",
    "#         # quaternion is eigenvector of K that corresponds to largest eigenvalue\n",
    "#         w, V = numpy.linalg.eigh(K)\n",
    "#         q = V[[3, 0, 1, 2], numpy.argmax(w)]\n",
    "#     if q[0] < 0.0:\n",
    "#         numpy.negative(q, q)\n",
    "#     return q"
   ]
  }
 ],
 "metadata": {
  "kernelspec": {
   "display_name": "Python 2",
   "language": "python",
   "name": "python2"
  },
  "language_info": {
   "codemirror_mode": {
    "name": "ipython",
    "version": 2
   },
   "file_extension": ".py",
   "mimetype": "text/x-python",
   "name": "python",
   "nbconvert_exporter": "python",
   "pygments_lexer": "ipython2",
   "version": "2.7.6"
  }
 },
 "nbformat": 4,
 "nbformat_minor": 0
}
