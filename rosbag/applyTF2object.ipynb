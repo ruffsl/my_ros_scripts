{
 "cells": [
  {
   "cell_type": "code",
   "execution_count": 3,
   "metadata": {
    "collapsed": false
   },
   "outputs": [],
   "source": [
    "import rosbag\n",
    "import tf\n",
    "from geometry_msgs import msg\n",
    "import geometry_msgs.msg\n",
    "\n",
    "import tf_conversions.posemath as posemath\n",
    "import numpy as np"
   ]
  },
  {
   "cell_type": "code",
   "execution_count": 4,
   "metadata": {
    "collapsed": false
   },
   "outputs": [],
   "source": [
    "object_child_frame_id = \"object_link\"\n",
    "base_child_frame_id = \"base_link\""
   ]
  },
  {
   "cell_type": "markdown",
   "metadata": {},
   "source": [
    "http://www.euclideanspace.com/maths/geometry/rotations/conversions/eulerToMatrix/examples/index.htm"
   ]
  },
  {
   "cell_type": "code",
   "execution_count": 5,
   "metadata": {
    "collapsed": false
   },
   "outputs": [],
   "source": [
    "def applyTF2object(base, obj):\n",
    "\n",
    "    q1 = np.zeros(4)\n",
    "    q1[0] = base.transform.rotation.x\n",
    "    q1[1] = base.transform.rotation.y\n",
    "    q1[2] = base.transform.rotation.z\n",
    "    q1[3] = base.transform.rotation.w\n",
    "    P1 = tf.transformations.quaternion_matrix(q1)\n",
    "    P1[0, 3] = base.transform.translation.x\n",
    "    P1[1, 3] = base.transform.translation.y\n",
    "    P1[2, 3] = base.transform.translation.z\n",
    "    \n",
    "    q2 = np.zeros(4)\n",
    "    q2[0] = obj.transform.rotation.x\n",
    "    q2[1] = obj.transform.rotation.y\n",
    "    q2[2] = obj.transform.rotation.z\n",
    "    q2[3] = obj.transform.rotation.w\n",
    "    P2 = tf.transformations.quaternion_matrix(q2)\n",
    "    P2[0, 3] = obj.transform.translation.x\n",
    "    P2[1, 3] = obj.transform.translation.y\n",
    "    P2[2, 3] = obj.transform.translation.z\n",
    "    \n",
    "    P_ = P1*P2\n",
    "\n",
    "    q = tf.transformations.quaternion_from_matrix(P_)\n",
    "    \n",
    "    geo_msg = geometry_msgs.msg()\n",
    "    \n",
    "    geo_msg.transform.rotation.x = q[0]\n",
    "    geo_msg.transform.rotation.y = q[1]\n",
    "    geo_msg.transform.rotation.z = q[2]\n",
    "    geo_msg.transform.rotation.w = q[3]\n",
    "    geo_msg.transform.translation.x = P_[0, 3]\n",
    "    geo_msg.transform.translation.y = P_[1, 3]\n",
    "    geo_msg.transform.translation.z = P_[2, 3]\n",
    "    \n",
    "    return geo_msg\n",
    "    \n",
    "base_msg = None\n",
    "object_msg = None\n",
    "\n",
    "def applyTF2bag(input_bag, output_bag):\n",
    "    isFirstTF = True\n",
    "    with rosbag.Bag(output_bag, 'w') as outbag:\n",
    "        for topic, msg, t in rosbag.Bag(input_bag).read_messages():\n",
    "            if topic == \"/tf\":\n",
    "                tf_msg = tf.msg.tfMessage()\n",
    "                \n",
    "                for geo_msg in msg.transforms:\n",
    "                    if geo_msg.child_frame_id == object_child_frame_id:\n",
    "                        base_msg = geo_msg\n",
    "                    if geo_msg.child_frame_id == base_child_frame_id:\n",
    "                        object_msg = geo_msg\n",
    "                \n",
    "                if ((base_msg is not None) or (object_msg is not None)):\n",
    "                    geo_msg = applyTF2object()\n",
    "                    tf_msg.transforms.append(geo_msg)\n",
    "                    outbag.write('/tf', tf_msg, msg.header.stamp if msg._has_header else t)\n",
    "            else:\n",
    "                outbag.write(topic, msg, msg.header.stamp if msg._has_header else t)"
   ]
  },
  {
   "cell_type": "code",
   "execution_count": 7,
   "metadata": {
    "collapsed": false
   },
   "outputs": [],
   "source": [
    "bagfiles = ['recorded_data.bag']\n",
    "path = '/home/ruffsl/Desktop/'\n",
    "for bagfile in bagfiles:\n",
    "    applyTF2bag(path+bagfile, path+'optical/optical.'+bagfile)"
   ]
  },
  {
   "cell_type": "code",
   "execution_count": null,
   "metadata": {
    "collapsed": true
   },
   "outputs": [],
   "source": []
  },
  {
   "cell_type": "code",
   "execution_count": null,
   "metadata": {
    "collapsed": true
   },
   "outputs": [],
   "source": []
  }
 ],
 "metadata": {
  "kernelspec": {
   "display_name": "Python 2",
   "language": "python",
   "name": "python2"
  },
  "language_info": {
   "codemirror_mode": {
    "name": "ipython",
    "version": 2
   },
   "file_extension": ".py",
   "mimetype": "text/x-python",
   "name": "python",
   "nbconvert_exporter": "python",
   "pygments_lexer": "ipython2",
   "version": "2.7.6"
  }
 },
 "nbformat": 4,
 "nbformat_minor": 0
}
