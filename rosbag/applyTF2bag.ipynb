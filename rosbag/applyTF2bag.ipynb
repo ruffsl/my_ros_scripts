{
 "cells": [
  {
   "cell_type": "code",
   "execution_count": 1,
   "metadata": {
    "collapsed": false
   },
   "outputs": [],
   "source": [
    "import rosbag\n",
    "import tf\n",
    "from geometry_msgs import msg\n",
    "import geometry_msgs.msg\n",
    "\n",
    "import tf_conversions.posemath as posemath\n",
    "import numpy as np"
   ]
  },
  {
   "cell_type": "code",
   "execution_count": 2,
   "metadata": {
    "collapsed": false
   },
   "outputs": [],
   "source": [
    "# input_bag = \"/home/ruffsl/Desktop/data_02_18/kk_cup.bag\"\n",
    "# output_bag = \"/home/ruffsl/Desktop/data_02_18/optical.kk_cup.bag\"\n",
    "centroid2optic = np.matrix([[0, 0, 1, 0],\n",
    "                          [-1, 0, 0, 0],\n",
    "                          [0, -1, 0, 0],\n",
    "                          [0, 0, 0, 1]])\n",
    "# centroid2optic = np.matrix([[1, 0, 0, 0],\n",
    "#                           [0, 1, 0, 0],\n",
    "#                           [0, 0, 1, 0],\n",
    "#                           [0, 0, 0, 1]])"
   ]
  },
  {
   "cell_type": "markdown",
   "metadata": {},
   "source": [
    "http://www.euclideanspace.com/maths/geometry/rotations/conversions/eulerToMatrix/examples/index.htm"
   ]
  },
  {
   "cell_type": "code",
   "execution_count": 3,
   "metadata": {
    "collapsed": false
   },
   "outputs": [],
   "source": [
    "def applyTF2bag(input_bag, output_bag):\n",
    "    isFirstTF = True\n",
    "    with rosbag.Bag(output_bag, 'w') as outbag:\n",
    "        for topic, msg, t in rosbag.Bag(input_bag).read_messages():\n",
    "            # This also replaces tf timestamps under the assumption \n",
    "            # that all transforms in the message share the same timestamp\n",
    "            if topic == \"/tf\":\n",
    "\n",
    "                tf_msg = tf.msg.tfMessage()\n",
    "\n",
    "                for geo_msg in msg.transforms:\n",
    "                    if geo_msg.child_frame_id == \"Robot_1/base_link\":\n",
    "                        geo_msg.header.frame_id = \"odom\"\n",
    "\n",
    "                        q = np.zeros(4)\n",
    "                        q[0] = geo_msg.transform.rotation.x\n",
    "                        q[1] = geo_msg.transform.rotation.y\n",
    "                        q[2] = geo_msg.transform.rotation.z\n",
    "                        q[3] = geo_msg.transform.rotation.w\n",
    "                        P = tf.transformations.quaternion_matrix(q)\n",
    "                        P[0, 3] = geo_msg.transform.translation.x\n",
    "                        P[1, 3] = geo_msg.transform.translation.y\n",
    "                        P[2, 3] = geo_msg.transform.translation.z\n",
    "                        P_ = P*centroid2optic\n",
    "\n",
    "                        if isFirstTF:\n",
    "                            isFirstTF = False\n",
    "                            firstTF = np.linalg.inv(P_)\n",
    "                        P_ = firstTF*P_\n",
    "\n",
    "                        q = tf.transformations.quaternion_from_matrix(P_)\n",
    "\n",
    "                        geo_msg.transform.rotation.x = q[0]\n",
    "                        geo_msg.transform.rotation.y = q[1]\n",
    "                        geo_msg.transform.rotation.z = q[2]\n",
    "                        geo_msg.transform.rotation.w = q[3]\n",
    "                        geo_msg.transform.translation.x = P_[0, 3]\n",
    "                        geo_msg.transform.translation.y = P_[1, 3]\n",
    "                        geo_msg.transform.translation.z = P_[2, 3]\n",
    "                        tf_msg.transforms.append(geo_msg)\n",
    "                        outbag.write('/tf', tf_msg, msg.header.stamp if msg._has_header else t)\n",
    "#                     else:\n",
    "#                         tf_msg.transforms.append(geo_msg)\n",
    "\n",
    "#                 outbag.write('/tf', tf_msg, msg.header.stamp if msg._has_header else t)\n",
    "            else:\n",
    "                outbag.write(topic, msg, msg.header.stamp if msg._has_header else t)"
   ]
  },
  {
   "cell_type": "code",
   "execution_count": 5,
   "metadata": {
    "collapsed": false
   },
   "outputs": [],
   "source": [
    "bagfiles = ['kk_cup.bag',\n",
    "'ojflo_data.bag',\n",
    "'ojflo_fast.bag',\n",
    "'ojflo_occ.bag',\n",
    "'ron_data.bag',\n",
    "'ron_fast.bag',\n",
    "'ron_occ.bag',\n",
    "'ss_data.bag',\n",
    "'ss_occ.bag',\n",
    "'tide.bag',\n",
    "'tide_fast.bag',\n",
    "'tide_occ.bag']\n",
    "path = '/media/ruffsl/Seagate Backup Plus Drive/data_tracking_0218/data_02_18/'\n",
    "for bagfile in bagfiles:\n",
    "    applyTF2bag(path+bagfile, path+'optical/optical.'+bagfile)"
   ]
  },
  {
   "cell_type": "code",
   "execution_count": null,
   "metadata": {
    "collapsed": true
   },
   "outputs": [],
   "source": []
  },
  {
   "cell_type": "code",
   "execution_count": null,
   "metadata": {
    "collapsed": true
   },
   "outputs": [],
   "source": []
  }
 ],
 "metadata": {
  "kernelspec": {
   "display_name": "Python 2",
   "language": "python",
   "name": "python2"
  },
  "language_info": {
   "codemirror_mode": {
    "name": "ipython",
    "version": 2
   },
   "file_extension": ".py",
   "mimetype": "text/x-python",
   "name": "python",
   "nbconvert_exporter": "python",
   "pygments_lexer": "ipython2",
   "version": "2.7.6"
  }
 },
 "nbformat": 4,
 "nbformat_minor": 0
}
