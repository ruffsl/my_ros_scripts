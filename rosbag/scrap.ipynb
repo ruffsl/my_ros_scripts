{
 "cells": [
  {
   "cell_type": "code",
   "execution_count": 1,
   "metadata": {
    "collapsed": true
   },
   "outputs": [],
   "source": [
    "import rosbag_pandas\n",
    "import datetime\n",
    "import pandas as pd\n",
    "import numpy as np"
   ]
  },
  {
   "cell_type": "code",
   "execution_count": 2,
   "metadata": {
    "collapsed": true
   },
   "outputs": [],
   "source": [
    "bag_file = \"ron_data19_2015-09-16-02-32-55.bag\""
   ]
  },
  {
   "cell_type": "code",
   "execution_count": 3,
   "metadata": {
    "collapsed": true
   },
   "outputs": [],
   "source": [
    "df = rosbag_pandas.bag_to_dataframe(bag_file)"
   ]
  },
  {
   "cell_type": "code",
   "execution_count": 6,
   "metadata": {
    "collapsed": false
   },
   "outputs": [
    {
     "name": "stdout",
     "output_type": "stream",
     "text": [
      "Robot_1_pose__pose_orientation_w\n",
      "Robot_1_pose__pose_orientation_x\n",
      "Robot_1_pose__pose_orientation_y\n",
      "Robot_1_pose__pose_orientation_z\n",
      "Robot_1_pose__pose_position_x\n",
      "Robot_1_pose__pose_position_y\n",
      "Robot_1_pose__pose_position_z\n",
      "clock__clock_nsecs\n",
      "clock__clock_secs\n",
      "object_tracking_2d_ros_detections__detections\n",
      "omnimapper_ros_node_pose__pose_orientation_w\n",
      "omnimapper_ros_node_pose__pose_orientation_x\n",
      "omnimapper_ros_node_pose__pose_orientation_y\n",
      "omnimapper_ros_node_pose__pose_orientation_z\n",
      "omnimapper_ros_node_pose__pose_position_x\n",
      "omnimapper_ros_node_pose__pose_position_y\n",
      "omnimapper_ros_node_pose__pose_position_z\n",
      "svo_pose__pose_covariance\n",
      "svo_pose__pose_pose_orientation_w\n",
      "svo_pose__pose_pose_orientation_x\n",
      "svo_pose__pose_pose_orientation_y\n",
      "svo_pose__pose_pose_orientation_z\n",
      "svo_pose__pose_pose_position_x\n",
      "svo_pose__pose_pose_position_y\n",
      "svo_pose__pose_pose_position_z\n",
      "tf__transforms\n"
     ]
    }
   ],
   "source": [
    "for i in df.columns:\n",
    "    print i"
   ]
  },
  {
   "cell_type": "code",
   "execution_count": null,
   "metadata": {
    "collapsed": true
   },
   "outputs": [],
   "source": []
  }
 ],
 "metadata": {
  "kernelspec": {
   "display_name": "Python 2",
   "language": "python",
   "name": "python2"
  },
  "language_info": {
   "codemirror_mode": {
    "name": "ipython",
    "version": 2
   },
   "file_extension": ".py",
   "mimetype": "text/x-python",
   "name": "python",
   "nbconvert_exporter": "python",
   "pygments_lexer": "ipython2",
   "version": "2.7.6"
  }
 },
 "nbformat": 4,
 "nbformat_minor": 0
}
