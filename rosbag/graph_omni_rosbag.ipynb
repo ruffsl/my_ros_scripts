{
 "cells": [
  {
   "cell_type": "code",
   "execution_count": 1,
   "metadata": {
    "collapsed": false
   },
   "outputs": [],
   "source": [
    "import rosbag_pandas\n",
    "import datetime\n",
    "import pandas as pd\n",
    "import numpy as np"
   ]
  },
  {
   "cell_type": "code",
   "execution_count": 2,
   "metadata": {
    "collapsed": false
   },
   "outputs": [],
   "source": [
    "df = rosbag_pandas.bag_to_dataframe('ron_data19_2015-09-14-21-53-48.bag')"
   ]
  },
  {
   "cell_type": "code",
   "execution_count": 3,
   "metadata": {
    "collapsed": false
   },
   "outputs": [
    {
     "name": "stdout",
     "output_type": "stream",
     "text": [
      "Robot_1_pose__pose_orientation_w\n",
      "Robot_1_pose__pose_orientation_x\n",
      "Robot_1_pose__pose_orientation_y\n",
      "Robot_1_pose__pose_orientation_z\n",
      "Robot_1_pose__pose_position_x\n",
      "Robot_1_pose__pose_position_y\n",
      "Robot_1_pose__pose_position_z\n",
      "clock__clock_nsecs\n",
      "clock__clock_secs\n",
      "object_tracking_2d_ros_detections__detections\n",
      "omnimapper_ros_node_pose__pose_orientation_w\n",
      "omnimapper_ros_node_pose__pose_orientation_x\n",
      "omnimapper_ros_node_pose__pose_orientation_y\n",
      "omnimapper_ros_node_pose__pose_orientation_z\n",
      "omnimapper_ros_node_pose__pose_position_x\n",
      "omnimapper_ros_node_pose__pose_position_y\n",
      "omnimapper_ros_node_pose__pose_position_z\n",
      "svo_pose__pose_covariance\n",
      "svo_pose__pose_pose_orientation_w\n",
      "svo_pose__pose_pose_orientation_x\n",
      "svo_pose__pose_pose_orientation_y\n",
      "svo_pose__pose_pose_orientation_z\n",
      "svo_pose__pose_pose_position_x\n",
      "svo_pose__pose_pose_position_y\n",
      "svo_pose__pose_pose_position_z\n",
      "tf__transforms\n"
     ]
    }
   ],
   "source": [
    "for c in df.columns:\n",
    "    print c"
   ]
  },
  {
   "cell_type": "code",
   "execution_count": 4,
   "metadata": {
    "collapsed": false
   },
   "outputs": [],
   "source": [
    "ground_col = ['Robot_1_pose__pose_position_x',\n",
    "              'Robot_1_pose__pose_position_y',\n",
    "              'Robot_1_pose__pose_position_z',\n",
    "              'Robot_1_pose__pose_orientation_x',\n",
    "              'Robot_1_pose__pose_orientation_y',\n",
    "              'Robot_1_pose__pose_orientation_z',\n",
    "              'Robot_1_pose__pose_orientation_w']\n",
    "ground_list = [df[ground_col[0]], \n",
    "               df[ground_col[1]], \n",
    "               df[ground_col[2]], \n",
    "               df[ground_col[3]], \n",
    "               df[ground_col[4]], \n",
    "               df[ground_col[5]], \n",
    "               df[ground_col[6]]]\n",
    "ground = pd.concat(ground_list, axis=1, keys=ground_col)\n",
    "ground = ground.dropna(how='all')"
   ]
  },
  {
   "cell_type": "code",
   "execution_count": 5,
   "metadata": {
    "collapsed": true
   },
   "outputs": [],
   "source": [
    "ground.to_csv('ground.data', sep=\" \", header=False, date_format=\"%s.%f\")"
   ]
  },
  {
   "cell_type": "code",
   "execution_count": 7,
   "metadata": {
    "collapsed": false
   },
   "outputs": [],
   "source": [
    "omni_col = ['omnimapper_ros_node_pose__pose_position_x',\n",
    "           'omnimapper_ros_node_pose__pose_position_y',\n",
    "           'omnimapper_ros_node_pose__pose_position_z',\n",
    "           'omnimapper_ros_node_pose__pose_orientation_x',\n",
    "           'omnimapper_ros_node_pose__pose_orientation_y',\n",
    "           'omnimapper_ros_node_pose__pose_orientation_z',\n",
    "           'omnimapper_ros_node_pose__pose_orientation_w']\n",
    "omni_list = [df[omni_col[0]], \n",
    "            df[omni_col[1]], \n",
    "            df[omni_col[2]], \n",
    "            df[omni_col[3]], \n",
    "            df[omni_col[4]], \n",
    "            df[omni_col[5]], \n",
    "            df[omni_col[6]]]\n",
    "omni = pd.concat(omni_list, axis=1, keys=omni_col)\n",
    "omni = omni.dropna(how='all')"
   ]
  },
  {
   "cell_type": "code",
   "execution_count": 8,
   "metadata": {
    "collapsed": true
   },
   "outputs": [],
   "source": [
    "omni.to_csv('omni.data', sep=\" \", header=False, date_format=\"%s.%f\")"
   ]
  },
  {
   "cell_type": "code",
   "execution_count": 11,
   "metadata": {
    "collapsed": false
   },
   "outputs": [
    {
     "name": "stdout",
     "output_type": "stream",
     "text": [
      "0.231707\n"
     ]
    }
   ],
   "source": [
    "%%bash\n",
    "python rgbd_benchmark_tools/evaluate_ate.py ground.data omni.data --plot omni_ate.pdf --save omni_ate_error.txt"
   ]
  },
  {
   "cell_type": "code",
   "execution_count": 13,
   "metadata": {
    "collapsed": false
   },
   "outputs": [
    {
     "name": "stdout",
     "output_type": "stream",
     "text": [
      "0.10393064956\n"
     ]
    }
   ],
   "source": [
    "%%bash\n",
    "python rgbd_benchmark_tools/evaluate_rpe.py ground.data omni.data --plot omni_rpe.pdf --save omni_rpe_error.txt --fixed_delta "
   ]
  },
  {
   "cell_type": "code",
   "execution_count": null,
   "metadata": {
    "collapsed": true
   },
   "outputs": [],
   "source": []
  }
 ],
 "metadata": {
  "kernelspec": {
   "display_name": "Python 2",
   "language": "python",
   "name": "python2"
  },
  "language_info": {
   "codemirror_mode": {
    "name": "ipython",
    "version": 2
   },
   "file_extension": ".py",
   "mimetype": "text/x-python",
   "name": "python",
   "nbconvert_exporter": "python",
   "pygments_lexer": "ipython2",
   "version": "2.7.6"
  }
 },
 "nbformat": 4,
 "nbformat_minor": 0
}
