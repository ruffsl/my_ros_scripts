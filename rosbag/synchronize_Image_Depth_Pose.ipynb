{
 "cells": [
  {
   "cell_type": "markdown",
   "metadata": {},
   "source": [
    "# Synchronize Image, Depth, and Pose data\n",
    "\n",
    "This notebook synchronizes data from extracted bagfiles. Assuming the data directory containt are like so:\n",
    "> ```\n",
    "dataDir\n",
    "    rgb\\ # containes rgb images\n",
    "        0.00000.png\n",
    "        0.00001.png\n",
    "        ...\n",
    "    depth\\ # containes depth images\n",
    "        0.00000.png\n",
    "        0.00001.png\n",
    "        ...\n",
    "    rgb.txt # index of rgb files by time\n",
    "    depth.txt # index of depth files by time\n",
    "    tf.txt # index of pose files by time\n",
    "```\n",
    "\n",
    "The resulting output is like so:\n",
    "\n",
    "> ```\n",
    "dataDir\n",
    "    images\\ # containes synchronize rgb depth image pairs\n",
    "        0.00001-rgb.png\n",
    "        0.00001-depth.png\n",
    "        0.00002-rgb.png\n",
    "        0.00002-depth.png\n",
    "        ...\n",
    "        pose.txt # respective poses indexed by time\n",
    "```"
   ]
  },
  {
   "cell_type": "code",
   "execution_count": 1,
   "metadata": {
    "collapsed": false
   },
   "outputs": [],
   "source": [
    "import errno\n",
    "import glob\n",
    "import numpy as np\n",
    "import os\n",
    "import pandas as pd\n",
    "import shutil\n",
    "from rgbd_benchmark_tools import associate"
   ]
  },
  {
   "cell_type": "markdown",
   "metadata": {},
   "source": [
    "## Configure parameters"
   ]
  },
  {
   "cell_type": "code",
   "execution_count": 2,
   "metadata": {
    "collapsed": true
   },
   "outputs": [],
   "source": [
    "dataDir = '/home/ruffsl/Data/objects/optical4.ojjuice'\n",
    "sample_rate = 1 # output sample rate (every x image pair)\n",
    "frame_rate = 30 # input frame rate (fps)\n",
    "tolerance = 0.6 # 60% period tolerance of frame rate\n",
    "rgb_to_tf_offset = 0 # in seconds\n",
    "rgb_to_depth_offset = 0 # in seconds"
   ]
  },
  {
   "cell_type": "markdown",
   "metadata": {},
   "source": [
    "## Define helper functions"
   ]
  },
  {
   "cell_type": "code",
   "execution_count": 3,
   "metadata": {
    "collapsed": true
   },
   "outputs": [],
   "source": [
    "def mkdir_p(path):\n",
    "    try:\n",
    "        os.makedirs(path)\n",
    "    except OSError as exc:  # Python >2.5\n",
    "        if exc.errno == errno.EEXIST and os.path.isdir(path):\n",
    "            pass\n",
    "        else:\n",
    "            raise\n",
    "\n",
    "def insertionSort(alist):\n",
    "    for index in range(1,len(alist)):\n",
    "        currentvalue = alist[index]\n",
    "        position = index\n",
    "        while position>0 and alist[position-1][0]>currentvalue[0]:\n",
    "            alist[position]=alist[position-1]\n",
    "            position = position-1\n",
    "        alist[position]=currentvalue\n",
    "    return alist\n",
    "\n",
    "def cp_file(src, dst, time, label):\n",
    "    for file in glob.glob(src+'*'):\n",
    "        extension = os.path.splitext(file)[1]\n",
    "        file2 = os.path.join(*[dst,time+label+extension])\n",
    "        shutil.copy2(file, file2)"
   ]
  },
  {
   "cell_type": "markdown",
   "metadata": {},
   "source": [
    "## Create paths"
   ]
  },
  {
   "cell_type": "code",
   "execution_count": 4,
   "metadata": {
    "collapsed": false
   },
   "outputs": [],
   "source": [
    "image_cleaned = os.path.join(dataDir,'images')\n",
    "pose_file = os.path.join(image_cleaned,'pose.txt')\n",
    "mkdir_p(image_cleaned)\n",
    "\n",
    "tf_file = os.path.join(dataDir,'tf.txt')\n",
    "rgb_file = os.path.join(dataDir,'rgb.txt')\n",
    "depth_file = os.path.join(dataDir,'depth.txt')"
   ]
  },
  {
   "cell_type": "markdown",
   "metadata": {},
   "source": [
    "## Load and associate data"
   ]
  },
  {
   "cell_type": "code",
   "execution_count": 5,
   "metadata": {
    "collapsed": false
   },
   "outputs": [],
   "source": [
    "tf_list = associate.read_file_list(tf_file)\n",
    "rgb_list = associate.read_file_list(rgb_file)\n",
    "depth_list = associate.read_file_list(depth_file)\n",
    "\n",
    "max_difference = tolerance / frame_rate\n",
    "rgb_tf_matches = associate.associate(rgb_list, tf_list, rgb_to_tf_offset, max_difference)\n",
    "rgb_depth_matches = associate.associate(rgb_list, depth_list, rgb_to_depth_offset, max_difference)"
   ]
  },
  {
   "cell_type": "markdown",
   "metadata": {},
   "source": [
    "## Sort data by time"
   ]
  },
  {
   "cell_type": "code",
   "execution_count": 6,
   "metadata": {
    "collapsed": false
   },
   "outputs": [],
   "source": [
    "rgb_depth_matches = insertionSort(rgb_depth_matches)\n",
    "\n",
    "rgb_matches = np.array(rgb_depth_matches)[:,0]\n",
    "depth_matches = np.array(rgb_depth_matches)[:,1]"
   ]
  },
  {
   "cell_type": "markdown",
   "metadata": {},
   "source": [
    "## Load pose info into dataframe"
   ]
  },
  {
   "cell_type": "code",
   "execution_count": 7,
   "metadata": {
    "collapsed": false
   },
   "outputs": [],
   "source": [
    "pose_df = pd.read_csv(tf_file, header=None, delim_whitespace=True, dtype={0:str})\n",
    "pose_df = pose_df.set_index(0)"
   ]
  },
  {
   "cell_type": "markdown",
   "metadata": {},
   "source": [
    "## Loop over matches and copy files"
   ]
  },
  {
   "cell_type": "code",
   "execution_count": 8,
   "metadata": {
    "collapsed": false
   },
   "outputs": [],
   "source": [
    "poses = []\n",
    "for rgb_image, tf_pose in rgb_tf_matches[0::sample_rate]:\n",
    "    rgb_match = np.searchsorted(rgb_matches, rgb_image)\n",
    "    if rgb_image == rgb_matches[rgb_match]:\n",
    "        rgb_image = os.path.join(*[dataDir,'rgb',\"{:.6f}\".format(rgb_image)])\n",
    "        depth_image = depth_matches[rgb_match]\n",
    "        depth_image = os.path.join(*[dataDir,'depth',\"{:.6f}\".format(depth_image)])\n",
    "        time = \"{:.6f}\".format(tf_pose)\n",
    "        cp_file(rgb_image,image_cleaned,time,'-rgb')\n",
    "        cp_file(depth_image,image_cleaned,time,'-depth')\n",
    "        poses.append(time)"
   ]
  },
  {
   "cell_type": "markdown",
   "metadata": {},
   "source": [
    "## Save pose file as well"
   ]
  },
  {
   "cell_type": "code",
   "execution_count": 9,
   "metadata": {
    "collapsed": true
   },
   "outputs": [],
   "source": [
    "pose_df2 = pose_df[pose_df.index.map(lambda x: x in poses)]\n",
    "pose_df2.to_csv(pose_file, header=None)"
   ]
  }
 ],
 "metadata": {
  "kernelspec": {
   "display_name": "Python 2",
   "language": "python",
   "name": "python2"
  },
  "language_info": {
   "codemirror_mode": {
    "name": "ipython",
    "version": 2
   },
   "file_extension": ".py",
   "mimetype": "text/x-python",
   "name": "python",
   "nbconvert_exporter": "python",
   "pygments_lexer": "ipython2",
   "version": "2.7.6"
  }
 },
 "nbformat": 4,
 "nbformat_minor": 0
}
