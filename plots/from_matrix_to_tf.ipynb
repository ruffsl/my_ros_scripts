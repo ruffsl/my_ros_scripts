{
 "cells": [
  {
   "cell_type": "code",
   "execution_count": 1,
   "metadata": {
    "collapsed": true
   },
   "outputs": [],
   "source": [
    "from __future__ import division\n",
    "from __future__ import print_function\n",
    "from decimal import Decimal\n",
    "\n",
    "\n",
    "import data_tools\n",
    "import numpy as np\n",
    "import pandas as pd\n",
    "import matplotlib.pyplot as plt\n",
    "import os\n",
    "\n",
    "import itertools\n",
    "\n",
    "%matplotlib inline"
   ]
  },
  {
   "cell_type": "code",
   "execution_count": 2,
   "metadata": {
    "collapsed": true
   },
   "outputs": [],
   "source": [
    "root_path = '/home/ruffsl/Desktop/bag_final';\n",
    "bag_folder_names = [\n",
    "    'ojflo_data_particle',\n",
    "    'ojflo_occ_particle',\n",
    "    'ron_data_particle',\n",
    "    'ron_occ_particle',\n",
    "    'tide_particle',\n",
    "    ]"
   ]
  },
  {
   "cell_type": "code",
   "execution_count": 3,
   "metadata": {
    "collapsed": true
   },
   "outputs": [],
   "source": [
    "def rowTomatrix(row):\n",
    "    matrix = np.matrix(np.reshape(np.array(row), (-1, 4)))\n",
    "    return matrix"
   ]
  },
  {
   "cell_type": "code",
   "execution_count": 5,
   "metadata": {
    "collapsed": false
   },
   "outputs": [
    {
     "name": "stdout",
     "output_type": "stream",
     "text": [
      "ojflo_data_particle :\n",
      "ojflo_occ_particle :\n",
      "ron_data_particle :\n",
      "ron_occ_particle :\n",
      "tide_particle :\n"
     ]
    }
   ],
   "source": [
    "for bag in bag_folder_names:\n",
    "    print(bag,':')\n",
    "    object_pose_path = os.path.join(root_path, bag, 'pose.txt')\n",
    "    object_time_path = os.path.join(root_path, bag, 'rgb.txt')\n",
    "    object_path = os.path.join(root_path, bag, 'object.txt')\n",
    "    object_pose_df = pd.read_csv(object_pose_path, header=None, delim_whitespace=True)\n",
    "    object_time_df = pd.read_csv(object_time_path, header=None, delim_whitespace=True, dtype=str)\n",
    "    object_time_df = object_time_df.set_index(0)\n",
    "    \n",
    "    object_pose_list = []\n",
    "    \n",
    "    iterzip = itertools.izip(object_pose_df.iterrows(), object_time_df.iterrows())\n",
    "    for [object_pose_index, object_pose_row], [object_time_index, object_time_row] in iterzip:\n",
    "        pose_matrix = rowTomatrix(object_pose_row)\n",
    "        pose_quaternion = data_tools.quaternion_from_matrix(pose_matrix)\n",
    "        pose_transform = np.squeeze(np.asarray(pose_matrix[0:3,3]))\n",
    "        pose_tf = [Decimal(object_time_index)] + pose_transform.tolist() + pose_quaternion.tolist()\n",
    "        object_pose_list.append(pose_tf)\n",
    "        \n",
    "    object_df = pd.DataFrame(object_pose_list)\n",
    "    \n",
    "    object_df.to_csv(object_path, header=None, index=False, sep=' ')"
   ]
  },
  {
   "cell_type": "code",
   "execution_count": null,
   "metadata": {
    "collapsed": true
   },
   "outputs": [],
   "source": []
  }
 ],
 "metadata": {
  "kernelspec": {
   "display_name": "Python 2",
   "language": "python",
   "name": "python2"
  },
  "language_info": {
   "codemirror_mode": {
    "name": "ipython",
    "version": 2
   },
   "file_extension": ".py",
   "mimetype": "text/x-python",
   "name": "python",
   "nbconvert_exporter": "python",
   "pygments_lexer": "ipython2",
   "version": "2.7.6"
  }
 },
 "nbformat": 4,
 "nbformat_minor": 0
}
